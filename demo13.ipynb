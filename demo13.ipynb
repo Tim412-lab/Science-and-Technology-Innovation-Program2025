{
 "cells": [
  {
   "cell_type": "markdown",
   "id": "b37d5c18",
   "metadata": {},
   "source": [
    "### 3.3.2 \\_\\_call\\_\\_ 方法\n",
    "#### 使实例变得可调用"
   ]
  },
  {
   "cell_type": "code",
   "execution_count": null,
   "id": "f7cdd08f",
   "metadata": {},
   "outputs": [],
   "source": [
    "class Yc:\n",
    "    \n",
    "    # 构造函数，实例化时运行，self 等价于实例\n",
    "    # 类的属性\n",
    "    def __init__(self, v0): \n",
    "        self.v0 = v0 \n",
    "        self.g = 9.81\n",
    "    \n",
    "    # 编写类的方法，属性中的参数使用 self.x\n",
    "    # 调用 .value(t), self不作为传入参数\n",
    "    def value(self, t):\n",
    "        return self.v0*t - 0.5*self.g*t**2\n",
    "    \n",
    "    # __call__方法\n",
    "    # y = Yc(3) # 实例化 \n",
    "    # y(0.1)    # 则自动运行 call 函数\n",
    "    def __call__(self, t):\n",
    "        return self.v0*t - 0.5*self.g*t**2\n",
    "    \n",
    "    # 调用时使用 .formula()\n",
    "    def formula(self):\n",
    "        return f\"v0*t - 0.5*g*t**2: v0 = {self.v0}\""
   ]
  },
  {
   "cell_type": "code",
   "execution_count": null,
   "id": "4f9aaada",
   "metadata": {},
   "outputs": [],
   "source": [
    "# 实例化\n",
    "y = Yc(3)\n",
    "\n",
    "# __call__方法\n",
    "y(0.1)"
   ]
  },
  {
   "cell_type": "code",
   "execution_count": null,
   "id": "8db2adb6",
   "metadata": {},
   "outputs": [],
   "source": [
    "# 调用value方法\n",
    "y.value(0.1)"
   ]
  },
  {
   "cell_type": "code",
   "execution_count": null,
   "id": "7312d75e",
   "metadata": {},
   "outputs": [],
   "source": [
    "callable(y)"
   ]
  },
  {
   "cell_type": "code",
   "execution_count": null,
   "id": "0d544b61",
   "metadata": {},
   "outputs": [],
   "source": [
    "if callable(y):\n",
    "    print(y(0.1))"
   ]
  },
  {
   "cell_type": "markdown",
   "id": "dc458af0",
   "metadata": {},
   "source": [
    "### 3.3.3 继承 "
   ]
  },
  {
   "cell_type": "markdown",
   "id": "364bee20",
   "metadata": {},
   "source": [
    "### 定义线 Line 类"
   ]
  },
  {
   "cell_type": "code",
   "execution_count": null,
   "id": "914b9ab8",
   "metadata": {},
   "outputs": [],
   "source": [
    "class Line():\n",
    "    def __init__(self, c0, c1):\n",
    "        self.c0 = c0\n",
    "        self.c1 = c1\n",
    "        \n",
    "    def __call__(self, x):\n",
    "        return self.c0 + self.c1*x\n",
    "    \n",
    "    def table(self, L, R, n):\n",
    "        '''\n",
    "        return a table with n points for L<= x <= R\n",
    "        '''\n",
    "        import numpy as np\n",
    "        s = ''\n",
    "        s += f'  x    y \\n'\n",
    "        for x in np.linspace(L, R, n):\n",
    "            y = self(x)\n",
    "            s += f'{x}  {y}\\n'\n",
    "        return s"
   ]
  },
  {
   "cell_type": "code",
   "execution_count": null,
   "id": "fd6e4c40",
   "metadata": {},
   "outputs": [],
   "source": [
    "l = Line(1, -2)\n",
    "y = l(x=2.5)\n",
    "print(y)\n",
    "print(l.table(0, 1, 3))"
   ]
  },
  {
   "cell_type": "markdown",
   "id": "0dc3c90d",
   "metadata": {},
   "source": [
    "### 定义抛物线 Parabola 类"
   ]
  },
  {
   "cell_type": "code",
   "execution_count": null,
   "id": "9672759f",
   "metadata": {},
   "outputs": [],
   "source": [
    "class Parabola():\n",
    "    def __init__(self, c0, c1, c2):\n",
    "        self.c0 = c0\n",
    "        self.c1 = c1\n",
    "        self.c2 = c2\n",
    "        \n",
    "    def __call__(self, x):\n",
    "        return self.c0 + self.c1*x + self.c2*x**2\n",
    "    \n",
    "    def table(self, L, R, n):\n",
    "        '''\n",
    "        return a table with n points for L<= x <= R\n",
    "        '''\n",
    "        import numpy as np\n",
    "        s = ''\n",
    "        s += f'  x    y \\n'\n",
    "        for x in np.linspace(L, R, n):\n",
    "            y = self(x)\n",
    "            s += f'{x}  {y}\\n'\n",
    "        return s"
   ]
  },
  {
   "cell_type": "code",
   "execution_count": null,
   "id": "5ca5d0f3",
   "metadata": {},
   "outputs": [],
   "source": [
    "p = Parabola(1, -2, 2)\n",
    "y = p(x = 2.5)\n",
    "print(y)\n",
    "print(p.table(0, 1, 3))"
   ]
  },
  {
   "cell_type": "markdown",
   "id": "33b1ab8d",
   "metadata": {},
   "source": [
    "### 使用继承的 Parabola 类"
   ]
  },
  {
   "cell_type": "code",
   "execution_count": null,
   "id": "55b2a3a4",
   "metadata": {},
   "outputs": [],
   "source": [
    "class Line():\n",
    "    def __init__(self, c0, c1):\n",
    "        self.c0 = c0\n",
    "        self.c1 = c1\n",
    "        \n",
    "    def __call__(self, x):\n",
    "        return self.c0 + self.c1*x\n",
    "    \n",
    "    def table(self, L, R, n):\n",
    "        '''\n",
    "        return a table with n points for L<= x <= R\n",
    "        '''\n",
    "        import numpy as np\n",
    "        s = ''\n",
    "        s += f'  x    y \\n'\n",
    "        for x in np.linspace(L, R, n):\n",
    "            y = self(x)\n",
    "            s += f'{x}  {y}\\n'\n",
    "        return s\n",
    "\n",
    "class Parabola(Line):\n",
    "    # 定义函数，需要输入self\n",
    "    def __init__(self, c0, c1, c2):\n",
    "        super().__init__(c0=c0, c1 = c1) # 这里相当于调用函数，不需要self\n",
    "        self.c2 = c2\n",
    "    \n",
    "    def __call__(self, x):\n",
    "        return super().__call__(x) + self.c2*x**2\n",
    "    "
   ]
  },
  {
   "cell_type": "code",
   "execution_count": null,
   "id": "42db3b60",
   "metadata": {},
   "outputs": [],
   "source": [
    "p = Parabola(1, -2, 2)\n",
    "y = p(x = 2.5)\n",
    "print(y)\n",
    "print(p.table(0, 1, 3))"
   ]
  },
  {
   "cell_type": "markdown",
   "id": "91516a04",
   "metadata": {},
   "source": [
    "### 检查类的类型"
   ]
  },
  {
   "cell_type": "code",
   "execution_count": null,
   "id": "ce3928de",
   "metadata": {},
   "outputs": [],
   "source": [
    "l = Line(-1, 1)\n",
    "isinstance(l, Line)"
   ]
  },
  {
   "cell_type": "code",
   "execution_count": null,
   "id": "b0356d4c",
   "metadata": {},
   "outputs": [],
   "source": [
    "isinstance(l, Parabola)"
   ]
  },
  {
   "cell_type": "code",
   "execution_count": null,
   "id": "800104a9",
   "metadata": {},
   "outputs": [],
   "source": [
    "p = Parabola(-1, 2, 10)\n",
    "isinstance(p, Parabola)"
   ]
  },
  {
   "cell_type": "code",
   "execution_count": null,
   "id": "e79c9f6b",
   "metadata": {},
   "outputs": [],
   "source": [
    "isinstance(p, Line)"
   ]
  },
  {
   "cell_type": "markdown",
   "id": "cab5b872",
   "metadata": {},
   "source": [
    "## 练习题"
   ]
  },
  {
   "cell_type": "markdown",
   "id": "f4257b18",
   "metadata": {},
   "source": [
    "### 1. 已经定义好 Car 类，练习创建实例和调用方法"
   ]
  },
  {
   "cell_type": "code",
   "execution_count": null,
   "id": "43b484b5",
   "metadata": {},
   "outputs": [],
   "source": [
    "class Car:\n",
    "    def __init__(self, make, model, year):\n",
    "        self.make = make\n",
    "        self.model = model\n",
    "        self.year = year\n",
    "\n",
    "    def display_info(self):\n",
    "        print(f\"{self.year} {self.make} {self.model}\")\n",
    "\n",
    "# 创建一个 Car 实例并调用 display_info 方法，\n",
    "# 实例名字: myCar\n",
    "# make 为 \"Wuling\"\n",
    "# model 为 \"Hongguang Mini\"\n",
    "# year 2020\n",
    "# 答案写在下面：\n",
    "\n",
    "# 实例化\n",
    "mycar = Car('Wuling','Hongguang Mini', 2020 )\n",
    "\n",
    "# 调用 display_info 函数\n",
    "mycar.display_info()"
   ]
  },
  {
   "cell_type": "markdown",
   "id": "c44178eb",
   "metadata": {},
   "source": [
    "### 2. 已知定义父类 Shape 和子类 Square，仿照该程序定义类 Circle, 并实现调用，求半径为3的圆面积"
   ]
  },
  {
   "cell_type": "code",
   "execution_count": null,
   "id": "e1d0121c",
   "metadata": {},
   "outputs": [],
   "source": [
    "class Shape:\n",
    "    def area(self):\n",
    "        print('Nothing')\n",
    "        return 0\n",
    "\n",
    "class Square(Shape):\n",
    "    def area(self, side):\n",
    "        return side ** 2\n",
    "\n",
    "# 实例化\n",
    "sq = Square()\n",
    "\n",
    "# 调用 area 方法\n",
    "sq.area(2)"
   ]
  },
  {
   "cell_type": "code",
   "execution_count": null,
   "id": "d48c42cf",
   "metadata": {},
   "outputs": [],
   "source": [
    "# 答案写在下面：\n",
    "import math\n",
    "class Circle(Shape):\n",
    "    def area(self, r):\n",
    "        return math.pi * r**2\n",
    "\n",
    "# 调用父类\n",
    "s = Shape()\n",
    "s.area()\n",
    "\n",
    "# 调用子类\n",
    "c = Circle()\n",
    "c.area(3)\n"
   ]
  },
  {
   "cell_type": "markdown",
   "id": "39586bbb",
   "metadata": {},
   "source": [
    "## 补充：深拷贝与浅拷贝"
   ]
  },
  {
   "cell_type": "code",
   "execution_count": null,
   "id": "8c2ec9a3",
   "metadata": {},
   "outputs": [],
   "source": [
    "a = [[1, 2], [3, 4]]\n",
    "\n",
    "b = a\n",
    "\n",
    "b[0][0] = 5\n",
    "\n",
    "print(a)\n",
    "print(b)\n",
    "\n",
    "# 发现改变b[0][0]的同时 a[0][0]也改变了\n",
    "# 通过查看各自的id 可以发现 a 和 b 内存地址一致\n",
    "# 所以python 赋值操作默认实现浅拷贝\n",
    "# 浅拷贝：改变复制的 b ，原来的二维列表 a 也被改变\n",
    "\n",
    "print(id(a))\n",
    "print(id(b))"
   ]
  },
  {
   "cell_type": "code",
   "execution_count": null,
   "id": "23283c49",
   "metadata": {},
   "outputs": [],
   "source": [
    "# 用copy模块中的deepcopy 实现深拷贝\n",
    "\n",
    "import copy\n",
    "\n",
    "a = [[1, 2], [3, 4]]\n",
    "\n",
    "# 只改变这一行的赋值方式 \n",
    "b = copy.deepcopy(a)\n",
    "\n",
    "b[0][0] = 5\n",
    "\n",
    "# 运行发现 a 不再随着 b 的改变而改变，实现深拷贝\n",
    "print(a)\n",
    "print(b)\n",
    "\n",
    "# 运行发现 id 不同\n",
    "print(id(a))\n",
    "print(id(b))"
   ]
  },
  {
   "cell_type": "markdown",
   "id": "1e80e464",
   "metadata": {},
   "source": [
    "## 3.4 微分"
   ]
  },
  {
   "cell_type": "markdown",
   "id": "84139365",
   "metadata": {},
   "source": [
    "### 3.4.1 前向差分和后向差分"
   ]
  },
  {
   "cell_type": "markdown",
   "id": "14dbdf9c",
   "metadata": {},
   "source": [
    "$$f'(x) \\approx \\frac{f(x + h) - f(x)}{h} ~~~~(\\text{forward})$$"
   ]
  },
  {
   "cell_type": "markdown",
   "id": "3e813301",
   "metadata": {},
   "source": [
    "$$f'(x) \\approx \\frac{f(x) - f(x-h)}{h} ~~~~(\\text{backward})$$"
   ]
  },
  {
   "cell_type": "markdown",
   "id": "e7de0cde",
   "metadata": {},
   "source": [
    "### 3.4.2 中心差分"
   ]
  },
  {
   "cell_type": "markdown",
   "id": "0564d871",
   "metadata": {},
   "source": [
    "#### 二阶中心差分"
   ]
  },
  {
   "cell_type": "markdown",
   "id": "62c27acc",
   "metadata": {},
   "source": [
    "$$f'(x) \\approx \\frac{f(x+h) - f(x-h)}{2h} $$"
   ]
  },
  {
   "cell_type": "markdown",
   "id": "9dc7a5b3",
   "metadata": {},
   "source": [
    "#### 四阶中心差分（强烈推荐）"
   ]
  },
  {
   "cell_type": "markdown",
   "id": "acda4d3f",
   "metadata": {},
   "source": [
    "$$ f'(x) \\approx \\frac{{-f(x + 2h) + 8f(x + h) - 8f(x - h) + f(x - 2h)}}{{12h}} $$"
   ]
  },
  {
   "cell_type": "code",
   "execution_count": null,
   "id": "a5007d5d",
   "metadata": {},
   "outputs": [],
   "source": [
    "class Diff():\n",
    "    def __init__(self, f, h=1E-5):\n",
    "        self.f = f\n",
    "        self.h = h\n",
    "\n",
    "\n",
    "class Forward1(Diff):\n",
    "    def __call__(self, x):\n",
    "        return (self.f(x + self.h) - self.f(x)) / self.h\n",
    "\n",
    "\n",
    "class Backward1(Diff):\n",
    "    def __call__(self, x):\n",
    "        return (self.f(x) - self.f(x - self.h)) / self.h\n",
    "\n",
    "\n",
    "class Central2(Diff):\n",
    "    def __call__(self, x):\n",
    "        return (self.f(x + self.h) - self.f(x - self.h)) / (2 * self.h)\n",
    "\n",
    "\n",
    "class Central4(Diff):\n",
    "    def __call__(self, x):\n",
    "        return (self.f(x + 2 * self.h) - 8 * self.f(x + self.h) +  \\\n",
    "                8 * self.f(x - self.h) - self.f(x - 2 * self.h))   \\\n",
    "                / (12 * self.h)"
   ]
  },
  {
   "cell_type": "code",
   "execution_count": null,
   "id": "8930e3ae",
   "metadata": {},
   "outputs": [],
   "source": []
  }
 ],
 "metadata": {
  "kernelspec": {
   "display_name": "Python 3 (ipykernel)",
   "language": "python",
   "name": "python3"
  },
  "language_info": {
   "codemirror_mode": {
    "name": "ipython",
    "version": 3
   },
   "file_extension": ".py",
   "mimetype": "text/x-python",
   "name": "python",
   "nbconvert_exporter": "python",
   "pygments_lexer": "ipython3",
   "version": "3.11.4"
  }
 },
 "nbformat": 4,
 "nbformat_minor": 5
}
